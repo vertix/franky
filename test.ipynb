{
 "cells": [
  {
   "cell_type": "code",
   "execution_count": 7,
   "metadata": {},
   "outputs": [
    {
     "data": {
      "text/plain": [
       "<module 'franky' (<_frozen_importlib_external.NamespaceLoader object at 0x7e24e8089b10>)>"
      ]
     },
     "execution_count": 7,
     "metadata": {},
     "output_type": "execute_result"
    }
   ],
   "source": [
    "# import importlib\n",
    "# importlib.reload(franky)"
   ]
  },
  {
   "cell_type": "code",
   "execution_count": 1,
   "metadata": {},
   "outputs": [],
   "source": [
    "import franky\n",
    "import numpy as np\n",
    "np.set_printoptions(precision=6, suppress=True, linewidth=200)\n",
    "\n",
    "from scipy.spatial.transform import Rotation"
   ]
  },
  {
   "cell_type": "code",
   "execution_count": 2,
   "metadata": {},
   "outputs": [],
   "source": [
    "robot = franky.Robot(\"172.168.0.2\", realtime_config=franky.RealtimeConfig.Ignore)"
   ]
  },
  {
   "cell_type": "code",
   "execution_count": 3,
   "metadata": {},
   "outputs": [
    {
     "data": {
      "text/plain": [
       "Affine(t=[0.088 0 0.823], q=[0.92388 0.382683 0 0])"
      ]
     },
     "execution_count": 3,
     "metadata": {},
     "output_type": "execute_result"
    }
   ],
   "source": [
    "robot.forward_kinematics(np.array([0, 0, 0, 0, 0, 0, 0]))"
   ]
  },
  {
   "cell_type": "code",
   "execution_count": 4,
   "metadata": {},
   "outputs": [],
   "source": [
    "pos = robot.forward_kinematics(np.array(robot.state.q))"
   ]
  },
  {
   "cell_type": "code",
   "execution_count": 7,
   "metadata": {},
   "outputs": [
    {
     "name": "stdout",
     "output_type": "stream",
     "text": [
      "156 μs ± 36.5 μs per loop (mean ± std. dev. of 10 runs, 100 loops each)\n"
     ]
    }
   ],
   "source": [
    "%%timeit -r 10 -n 100  q0 = np.array(robot.state.q) + np.random.randn(7) * 0.1\n",
    "q_result = robot.inverse_kinematics(pos, q0)"
   ]
  },
  {
   "cell_type": "code",
   "execution_count": 7,
   "metadata": {},
   "outputs": [
    {
     "name": "stdout",
     "output_type": "stream",
     "text": [
      "CPU times: user 30.6 ms, sys: 18.8 ms, total: 49.4 ms\n",
      "Wall time: 2.02 s\n"
     ]
    },
    {
     "data": {
      "text/plain": [
       "array([-0.077306, -0.30231 ,  0.062147, -1.52047 ,  0.017191,  1.508861,  0.782234])"
      ]
     },
     "execution_count": 7,
     "metadata": {},
     "output_type": "execute_result"
    }
   ],
   "source": [
    "%%time\n",
    "q0 = np.array(robot.state.q) + np.random.randn(7) * 0.1\n",
    "robot.inverse_kinematics(pos, q0)"
   ]
  },
  {
   "cell_type": "code",
   "execution_count": 5,
   "metadata": {},
   "outputs": [],
   "source": [
    "def quaternion_multiply(q1, q2):\n",
    "    w1, x1, y1, z1 = q1\n",
    "    w2, x2, y2, z2 = q2\n",
    "\n",
    "    w = w1 * w2 - x1 * x2 - y1 * y2 - z1 * z2\n",
    "    x = w1 * x2 + x1 * w2 + y1 * z2 - z1 * y2\n",
    "    y = w1 * y2 - x1 * z2 + y1 * w2 + z1 * x2\n",
    "    z = w1 * z2 + x1 * y2 - y1 * x2 + z1 * w2\n",
    "\n",
    "    return np.array([w, x, y, z])"
   ]
  },
  {
   "cell_type": "code",
   "execution_count": 6,
   "metadata": {},
   "outputs": [],
   "source": [
    "def q_inv(q):\n",
    "    q = q.copy()\n",
    "    q[1:] = -q[1:]\n",
    "    return q"
   ]
  },
  {
   "cell_type": "markdown",
   "metadata": {},
   "source": [
    "---"
   ]
  },
  {
   "cell_type": "code",
   "execution_count": 30,
   "metadata": {},
   "outputs": [],
   "source": [
    "def error(x_cur, target):\n",
    "    pos_error = x_cur.translation - target.translation\n",
    "    R_cur = x_cur.matrix[:3,:3]  # Current rotation matrix\n",
    "    R_target = target.matrix[:3,:3]  # Target rotation matrix\n",
    "    R_error = R_cur.T @ R_target\n",
    "    rot = Rotation.from_matrix(R_error)\n",
    "    rot_vec = rot.as_rotvec()\n",
    "    rot_vec = -R_cur @ rot_vec\n",
    "    return np.concatenate([pos_error, rot_vec])"
   ]
  },
  {
   "cell_type": "code",
   "execution_count": 9,
   "metadata": {},
   "outputs": [],
   "source": [
    "# _q = np.zeros(7)\n",
    "# _q = np.array([0, np.pi/2, 0, np.pi/2, 0, 0, 0])\n",
    "_q = np.array([0, 0, 0, 0, 0, 0, 0])"
   ]
  },
  {
   "cell_type": "code",
   "execution_count": 10,
   "metadata": {},
   "outputs": [],
   "source": [
    "eps = 1e-5\n",
    "J_num = np.zeros((6, 7))\n",
    "\n",
    "for i in range(7):\n",
    "    dq = np.zeros(7)\n",
    "    dq[i] = eps\n",
    "    x_plus = error(robot.forward_kinematics(_q + dq), robot.forward_kinematics(_q))\n",
    "    x_minus = error(robot.forward_kinematics(_q - dq), robot.forward_kinematics(_q))\n",
    "    J_num[:,i] = (x_plus - x_minus) / (2 * eps)"
   ]
  },
  {
   "cell_type": "code",
   "execution_count": 11,
   "metadata": {},
   "outputs": [
    {
     "data": {
      "text/plain": [
       "array([[ 0.    , -0.49  ,  0.    ,  0.1738,  0.    , -0.2104,  0.    ],\n",
       "       [-0.088 ,  0.    , -0.088 ,  0.    , -0.088 ,  0.    ,  0.    ],\n",
       "       [ 0.    ,  0.088 ,  0.    , -0.0055,  0.    , -0.088 ,  0.    ],\n",
       "       [ 0.    ,  0.    ,  0.    ,  0.    ,  0.    ,  0.    ,  0.    ],\n",
       "       [ 0.    ,  1.    ,  0.    , -1.    ,  0.    , -1.    ,  0.    ],\n",
       "       [ 1.    ,  0.    ,  1.    ,  0.    ,  1.    ,  0.    , -1.    ]])"
      ]
     },
     "execution_count": 11,
     "metadata": {},
     "output_type": "execute_result"
    }
   ],
   "source": [
    "J_num"
   ]
  },
  {
   "cell_type": "code",
   "execution_count": 12,
   "metadata": {},
   "outputs": [
    {
     "data": {
      "text/plain": [
       "array([[ 0.    ,  0.49  ,  0.    , -0.1738,  0.    ,  0.2104,  0.    ],\n",
       "       [ 0.088 ,  0.    ,  0.088 , -0.    ,  0.088 ,  0.    ,  0.    ],\n",
       "       [ 0.    , -0.088 ,  0.    ,  0.0055,  0.    ,  0.088 ,  0.    ],\n",
       "       [ 0.    , -0.    ,  0.    ,  0.    ,  0.    ,  0.    ,  0.    ],\n",
       "       [ 0.    ,  1.    ,  0.    , -1.    , -0.    , -1.    ,  0.    ],\n",
       "       [ 1.    ,  0.    ,  1.    , -0.    ,  1.    ,  0.    , -1.    ]])"
      ]
     },
     "execution_count": 12,
     "metadata": {},
     "output_type": "execute_result"
    }
   ],
   "source": [
    "J = robot.jacobian(_q)\n",
    "J"
   ]
  },
  {
   "cell_type": "markdown",
   "metadata": {},
   "source": [
    "---"
   ]
  },
  {
   "cell_type": "code",
   "execution_count": 31,
   "metadata": {},
   "outputs": [],
   "source": [
    "def line_search(robot, q, dq, e_current, target, alpha=1.0, beta=0.5, max_steps=10):\n",
    "    current_error_norm = np.linalg.norm(e_current)\n",
    "    step_size = alpha\n",
    "\n",
    "    for _ in range(max_steps):\n",
    "        q_new = q + step_size * dq\n",
    "        x_new = robot.forward_kinematics(q_new)\n",
    "        e_new = error(x_new, target)\n",
    "\n",
    "        if np.linalg.norm(e_new) < current_error_norm:\n",
    "            return step_size\n",
    "\n",
    "        step_size *= beta\n",
    "\n",
    "    return step_size"
   ]
  },
  {
   "cell_type": "code",
   "execution_count": 86,
   "metadata": {},
   "outputs": [],
   "source": [
    "def inverse_kinematics(robot, target: franky.Affine, q0):\n",
    "    q = q0.copy()\n",
    "    I = np.eye(7)\n",
    "    k0 = 0.01\n",
    "    max_iterations = 50\n",
    "    tol = 1e-4; min_step = 1e-6\n",
    "    pinv_reg = 0.1\n",
    "\n",
    "    for i in range(max_iterations):\n",
    "        x = robot.forward_kinematics(q)\n",
    "        e = error(x, target)\n",
    "        error_norm = np.linalg.norm(e)\n",
    "\n",
    "        if error_norm < tol:\n",
    "            print(f\"Converged after {i} iterations\")\n",
    "            break\n",
    "\n",
    "        j = robot.jacobian(q)\n",
    "        j_inv = j.T @ np.linalg.inv(j @ j.T + pinv_reg * I[:6,:6])\n",
    "\n",
    "        N = I - j_inv @ j\n",
    "        dq_primary = -j_inv @ e\n",
    "\n",
    "        k_null = k0 * np.exp(error_norm)  # Reduce null space influence when error is high\n",
    "        dq_null = N @ (-k_null * q)\n",
    "\n",
    "        dq = dq_primary + dq_null\n",
    "\n",
    "        step_size = line_search(robot, q, dq, e, target, alpha=1.0, beta=0.8, max_steps=20)\n",
    "        if step_size < min_step:\n",
    "            print(f\"Step size too small after {i} iterations\")\n",
    "            break\n",
    "\n",
    "        q += step_size * dq\n",
    "\n",
    "        if i % 1 == 0:  # Print less frequently\n",
    "            print(f\"{i}: Err: {error_norm:.5f}, Step: {step_size:.3f}, dq_p: {np.linalg.norm(dq_primary)}, dq_n: {np.linalg.norm(dq_null)}\")\n",
    "\n",
    "    return q"
   ]
  },
  {
   "cell_type": "code",
   "execution_count": 87,
   "metadata": {},
   "outputs": [],
   "source": [
    "pos = robot.forward_kinematics(np.array(robot.state.q))"
   ]
  },
  {
   "cell_type": "code",
   "execution_count": 88,
   "metadata": {},
   "outputs": [
    {
     "name": "stdout",
     "output_type": "stream",
     "text": [
      "0: Err: 0.10046, Step: 1.000, dq_p: 0.09043859473031989, dq_n: 0.0186720190761139\n",
      "1: Err: 0.02048, Step: 1.000, dq_p: 0.03079876439263302, dq_n: 0.017190893139847493\n",
      "2: Err: 0.01014, Step: 1.000, dq_p: 0.015161613969496527, dq_n: 0.016951045294983303\n",
      "3: Err: 0.00761, Step: 0.410, dq_p: 0.010358871047158982, dq_n: 0.016850969104743877\n",
      "4: Err: 0.00760, Step: 0.012, dq_p: 0.010013301920873383, dq_n: 0.016830451774240543\n",
      "5: Err: 0.00760, Step: 0.012, dq_p: 0.01000970081647311, dq_n: 0.01682996444837253\n",
      "6: Err: 0.00761, Step: 0.012, dq_p: 0.010006258684405387, dq_n: 0.016829479508533172\n",
      "7: Err: 0.00761, Step: 0.012, dq_p: 0.010002973807633491, dq_n: 0.016828996933067067\n",
      "8: Err: 0.00761, Step: 0.012, dq_p: 0.00999984448178529, dq_n: 0.016828516700515685\n",
      "9: Err: 0.00762, Step: 0.012, dq_p: 0.009996869015155629, dq_n: 0.016828038789616646\n",
      "10: Err: 0.00762, Step: 0.012, dq_p: 0.009994045728706888, dq_n: 0.016827563179302826\n",
      "11: Err: 0.00762, Step: 0.012, dq_p: 0.009991372956068221, dq_n: 0.01682708984870165\n",
      "12: Err: 0.00763, Step: 0.012, dq_p: 0.009988849043532104, dq_n: 0.01682661877713414\n",
      "13: Err: 0.00763, Step: 0.012, dq_p: 0.009986472350048457, dq_n: 0.01682614994411414\n",
      "14: Err: 0.00764, Step: 0.012, dq_p: 0.009984241247217673, dq_n: 0.0168256833293473\n",
      "15: Err: 0.00764, Step: 0.012, dq_p: 0.009982154119281692, dq_n: 0.016825218912730266\n",
      "16: Err: 0.00764, Step: 0.012, dq_p: 0.00998020936311187, dq_n: 0.016824756674349673\n",
      "17: Err: 0.00765, Step: 0.012, dq_p: 0.009978405388196753, dq_n: 0.016824296594481192\n",
      "18: Err: 0.00765, Step: 0.012, dq_p: 0.00997674061662711, dq_n: 0.016823838653588576\n",
      "19: Err: 0.00766, Step: 0.012, dq_p: 0.009975213483078118, dq_n: 0.01682338283232256\n",
      "20: Err: 0.00766, Step: 0.012, dq_p: 0.009973822434791849, dq_n: 0.01682292911152\n",
      "21: Err: 0.00767, Step: 0.012, dq_p: 0.009972565931556364, dq_n: 0.016822477472202658\n",
      "22: Err: 0.00767, Step: 0.012, dq_p: 0.009971442445682942, dq_n: 0.016822027895576252\n",
      "23: Err: 0.00767, Step: 0.012, dq_p: 0.009970450461984024, dq_n: 0.016821580363029356\n",
      "24: Err: 0.00768, Step: 0.012, dq_p: 0.009969588477744463, dq_n: 0.016821134856132278\n",
      "25: Err: 0.00768, Step: 0.012, dq_p: 0.00996885500269699, dq_n: 0.016820691356636\n",
      "26: Err: 0.00769, Step: 0.012, dq_p: 0.009968248558992235, dq_n: 0.016820249846471\n",
      "27: Err: 0.00769, Step: 0.012, dq_p: 0.009967767681167656, dq_n: 0.016819810307746177\n",
      "28: Err: 0.00770, Step: 0.012, dq_p: 0.009967410916115875, dq_n: 0.016819372722747642\n",
      "29: Err: 0.00770, Step: 0.012, dq_p: 0.009967176823050544, dq_n: 0.016818937073937598\n",
      "30: Err: 0.00771, Step: 0.012, dq_p: 0.009967063973471836, dq_n: 0.016818503343953156\n",
      "31: Err: 0.00771, Step: 0.012, dq_p: 0.009967070951128648, dq_n: 0.01681807151560515\n",
      "32: Err: 0.00772, Step: 0.012, dq_p: 0.00996719635198086, dq_n: 0.01681764157187692\n",
      "33: Err: 0.00772, Step: 0.012, dq_p: 0.009967438784159963, dq_n: 0.016817213495923147\n",
      "34: Err: 0.00773, Step: 0.012, dq_p: 0.009967796867927587, dq_n: 0.01681678727106862\n",
      "35: Err: 0.00774, Step: 0.012, dq_p: 0.009968269235632536, dq_n: 0.016816362880806977\n",
      "36: Err: 0.00774, Step: 0.012, dq_p: 0.009968854531668793, dq_n: 0.016815940308799553\n",
      "37: Err: 0.00775, Step: 0.012, dq_p: 0.00996955141242828, dq_n: 0.016815519538874068\n",
      "38: Err: 0.00775, Step: 0.012, dq_p: 0.009970358546256185, dq_n: 0.01681510055502342\n",
      "39: Err: 0.00776, Step: 0.012, dq_p: 0.009971274613402486, dq_n: 0.0168146833414044\n",
      "40: Err: 0.00776, Step: 0.012, dq_p: 0.009972298305973314, dq_n: 0.016814267882336496\n",
      "41: Err: 0.00777, Step: 0.012, dq_p: 0.009973428327881916, dq_n: 0.01681385416230056\n",
      "42: Err: 0.00778, Step: 0.012, dq_p: 0.009974663394796251, dq_n: 0.016813442165937602\n",
      "43: Err: 0.00778, Step: 0.012, dq_p: 0.009976002234087402, dq_n: 0.01681303187804744\n",
      "44: Err: 0.00779, Step: 0.012, dq_p: 0.009977443584776834, dq_n: 0.016812623283587524\n",
      "45: Err: 0.00779, Step: 0.012, dq_p: 0.009978986197481632, dq_n: 0.016812216367671547\n",
      "46: Err: 0.00780, Step: 0.012, dq_p: 0.009980628834358716, dq_n: 0.01681181111556829\n",
      "47: Err: 0.00781, Step: 0.012, dq_p: 0.009982370269049825, dq_n: 0.016811407512700223\n",
      "48: Err: 0.00781, Step: 0.012, dq_p: 0.009984209286623103, dq_n: 0.016811005544642262\n",
      "49: Err: 0.00782, Step: 0.012, dq_p: 0.009986144683516449, dq_n: 0.016810605197120514\n"
     ]
    },
    {
     "data": {
      "text/plain": [
       "(Affine(t=[0.463246 0.00181483 0.696371], q=[0.989572 -0.00401539 0.143963 0.00223078]),\n",
       " Affine(t=[0.462173 0.00470519 0.689736], q=[0.989394 -0.00466427 0.145159 0.00244009]))"
      ]
     },
     "execution_count": 88,
     "metadata": {},
     "output_type": "execute_result"
    }
   ],
   "source": [
    "ik_q = inverse_kinematics(robot, pos, np.array(robot.state.q) + np.random.randn(7) * 0.06)\n",
    "robot.forward_kinematics(ik_q), robot.forward_kinematics(np.array(robot.state.q))"
   ]
  },
  {
   "cell_type": "code",
   "execution_count": 89,
   "metadata": {},
   "outputs": [
    {
     "data": {
      "text/plain": [
       "(2.2830651207484833, 2.3262172049749097)"
      ]
     },
     "execution_count": 89,
     "metadata": {},
     "output_type": "execute_result"
    }
   ],
   "source": [
    "np.linalg.norm(ik_q), np.linalg.norm(np.array(robot.state.q))"
   ]
  },
  {
   "cell_type": "code",
   "execution_count": 85,
   "metadata": {},
   "outputs": [
    {
     "data": {
      "text/plain": [
       "(2.319937667768981, 2.3262163489116574)"
      ]
     },
     "execution_count": 85,
     "metadata": {},
     "output_type": "execute_result"
    }
   ],
   "source": [
    "np.linalg.norm(ik_q), np.linalg.norm(np.array(robot.state.q))"
   ]
  },
  {
   "cell_type": "code",
   "execution_count": 12,
   "metadata": {},
   "outputs": [],
   "source": [
    "target = pos\n",
    "q0 = np.array(robot.state.q) + np.random.randn(7) * 0.03\n",
    "q = q0.copy()\n",
    "pinv_reg, I = 0.01, np.eye(7)"
   ]
  },
  {
   "cell_type": "code",
   "execution_count": 13,
   "metadata": {},
   "outputs": [],
   "source": [
    "x = robot.forward_kinematics(q)\n",
    "e = error(x, target)\n",
    "error_norm = np.linalg.norm(e)"
   ]
  },
  {
   "cell_type": "code",
   "execution_count": 8,
   "metadata": {},
   "outputs": [],
   "source": [
    "def error(x_cur, target):\n",
    "    quat = np.array(x_cur.quaternion)\n",
    "    q_e = quaternion_multiply(quat, q_inv(target.quaternion))\n",
    "    q_e = Rotation.from_quat([q_e[1], q_e[2], q_e[3], q_e[0]]).as_euler('ZYX')\n",
    "    return np.concatenate([x_cur.translation - target.translation, q_e])"
   ]
  },
  {
   "cell_type": "code",
   "execution_count": 29,
   "metadata": {},
   "outputs": [],
   "source": [
    "# _q = np.zeros(7)\n",
    "_q = np.array([0, np.pi/2, 0, np.pi/2, 0, 0, 0])\n",
    "_q = robot.state.q"
   ]
  },
  {
   "cell_type": "code",
   "execution_count": 30,
   "metadata": {},
   "outputs": [],
   "source": [
    "eps = 1e-5\n",
    "J_num = np.zeros((6, 7))\n",
    "\n",
    "for i in range(7):\n",
    "    dq = np.zeros(7)\n",
    "    dq[i] = eps\n",
    "    x_plus = error(robot.forward_kinematics(_q + dq), robot.forward_kinematics(_q))\n",
    "    x_minus = error(robot.forward_kinematics(_q - dq), robot.forward_kinematics(_q))\n",
    "    J_num[:,i] = (x_plus - x_minus) / (2 * eps)"
   ]
  },
  {
   "cell_type": "code",
   "execution_count": 31,
   "metadata": {},
   "outputs": [
    {
     "data": {
      "text/plain": [
       "array([[-0.005342,  0.455747, -0.006534, -0.12941 , -0.001178,  0.077212,  0.      ],\n",
       "       [ 0.432478,  0.004777,  0.549825, -0.001316,  0.111336,  0.001924,  0.      ],\n",
       "       [ 0.      , -0.43251 , -0.000244,  0.449252, -0.001072,  0.115011,  0.      ],\n",
       "       [-0.205574,  0.720075,  0.003957, -0.722378, -0.690904, -0.722085,  0.      ],\n",
       "       [-0.200656, -0.693835,  0.017355,  0.691438, -0.721146,  0.691804,  0.      ],\n",
       "       [ 0.95785 ,  0.009194,  0.999842, -0.009143,  0.050981, -0.      , -1.      ]])"
      ]
     },
     "execution_count": 31,
     "metadata": {},
     "output_type": "execute_result"
    }
   ],
   "source": [
    "J_num"
   ]
  },
  {
   "cell_type": "code",
   "execution_count": 32,
   "metadata": {},
   "outputs": [
    {
     "data": {
      "text/plain": [
       "array([[-0.005342,  0.455747, -0.006534, -0.12941 , -0.001178,  0.077212, -0.      ],\n",
       "       [ 0.432478,  0.004777,  0.549825, -0.001316,  0.111336,  0.001924,  0.      ],\n",
       "       [ 0.      , -0.43251 , -0.000244,  0.449252, -0.001072,  0.115011, -0.      ],\n",
       "       [ 0.      , -0.01048 , -0.301686,  0.01365 ,  0.941924,  0.010578,  0.287202],\n",
       "       [ 0.      ,  0.999945, -0.003162, -0.999906,  0.013195, -0.999898, -0.006184],\n",
       "       [ 1.      ,  0.      ,  0.953402,  0.001003,  0.335566,  0.009627, -0.95785 ]])"
      ]
     },
     "execution_count": 32,
     "metadata": {},
     "output_type": "execute_result"
    }
   ],
   "source": [
    "J = robot.jacobian(_q)\n",
    "J"
   ]
  },
  {
   "cell_type": "code",
   "execution_count": 36,
   "metadata": {},
   "outputs": [],
   "source": [
    "q1 = _q + 0.01 * np.array([0, 1, 0, 0, 0, 0, 0])"
   ]
  },
  {
   "cell_type": "code",
   "execution_count": 38,
   "metadata": {},
   "outputs": [],
   "source": [
    "p1, p = robot.forward_kinematics(q1), robot.forward_kinematics(_q)\n",
    "# np.array(p1.quaternion), np.array(p.quaternion)\n",
    "# np.array(p1.quaternion) - np.array(p.quaternion)"
   ]
  },
  {
   "cell_type": "code",
   "execution_count": 39,
   "metadata": {},
   "outputs": [
    {
     "data": {
      "text/plain": [
       "(Affine(t=[0.0928955 0 0.822096], q=[0.923868 0.382679 -0.00461938 -0.00191341]),\n",
       " Affine(t=[0.088 0 0.823], q=[0.92388 0.382683 0 0]))"
      ]
     },
     "execution_count": 39,
     "metadata": {},
     "output_type": "execute_result"
    }
   ],
   "source": [
    "p1, p"
   ]
  },
  {
   "cell_type": "code",
   "execution_count": 40,
   "metadata": {},
   "outputs": [
    {
     "data": {
      "text/plain": [
       "array([ 0.004896,  0.      , -0.000904])"
      ]
     },
     "execution_count": 40,
     "metadata": {},
     "output_type": "execute_result"
    }
   ],
   "source": [
    "p1.translation - p.translation"
   ]
  },
  {
   "cell_type": "code",
   "execution_count": 41,
   "metadata": {},
   "outputs": [
    {
     "data": {
      "text/plain": [
       "array([ 0.999988, -0.      , -0.003536, -0.003536])"
      ]
     },
     "execution_count": 41,
     "metadata": {},
     "output_type": "execute_result"
    }
   ],
   "source": [
    "tr_diff = quaternion_multiply(np.array(p1.quaternion), q_inv(p.quaternion))\n",
    "tr_diff"
   ]
  },
  {
   "cell_type": "code",
   "execution_count": 42,
   "metadata": {},
   "outputs": [
    {
     "data": {
      "text/plain": [
       "array([-0.007071, -0.007071,  0.000025])"
      ]
     },
     "execution_count": 42,
     "metadata": {},
     "output_type": "execute_result"
    }
   ],
   "source": [
    "Rotation.from_quat([tr_diff[1], tr_diff[2], tr_diff[3], tr_diff[0]]).as_euler(\"ZYX\")\n"
   ]
  },
  {
   "cell_type": "code",
   "execution_count": 43,
   "metadata": {},
   "outputs": [
    {
     "data": {
      "text/plain": [
       "array([ 0.004896,  0.      , -0.000904, -0.007071, -0.007071,  0.000025])"
      ]
     },
     "execution_count": 43,
     "metadata": {},
     "output_type": "execute_result"
    }
   ],
   "source": [
    "error(p1, p)"
   ]
  },
  {
   "cell_type": "code",
   "execution_count": 44,
   "metadata": {},
   "outputs": [
    {
     "data": {
      "text/plain": [
       "array([ 0.0049 ,  0.     , -0.00088,  0.     ,  0.01   ,  0.     ])"
      ]
     },
     "execution_count": 44,
     "metadata": {},
     "output_type": "execute_result"
    }
   ],
   "source": [
    "np.array(J @ (q1 - _q))"
   ]
  },
  {
   "cell_type": "code",
   "execution_count": 26,
   "metadata": {},
   "outputs": [
    {
     "data": {
      "text/plain": [
       "array([0.005   , 0.      , 0.      , 0.999988])"
      ]
     },
     "execution_count": 26,
     "metadata": {},
     "output_type": "execute_result"
    }
   ],
   "source": [
    "Rotation.from_euler(\"ZYX\", np.array(J @ (q1 - _q))[3:]).as_quat()"
   ]
  },
  {
   "cell_type": "code",
   "execution_count": 142,
   "metadata": {},
   "outputs": [
    {
     "data": {
      "text/plain": [
       "(array([0.0929 , 0.     , 0.82212]), array([0.092896, 0.      , 0.822096]))"
      ]
     },
     "execution_count": 142,
     "metadata": {},
     "output_type": "execute_result"
    }
   ],
   "source": [
    "p.translation + np.array(J @ (q1 - _q))[:3], p1.translation"
   ]
  },
  {
   "cell_type": "code",
   "execution_count": null,
   "metadata": {},
   "outputs": [],
   "source": []
  },
  {
   "cell_type": "code",
   "execution_count": 173,
   "metadata": {},
   "outputs": [
    {
     "data": {
      "text/plain": [
       "array([ -5.79177, -38.41191, 178.70059])"
      ]
     },
     "execution_count": 173,
     "metadata": {},
     "output_type": "execute_result"
    }
   ],
   "source": [
    "Rotation.from_quat(tr_diff).as_euler(\"ZYX\", degrees=True)\n"
   ]
  },
  {
   "cell_type": "code",
   "execution_count": 82,
   "metadata": {},
   "outputs": [
    {
     "data": {
      "text/plain": [
       "array([[ 0.021,  0.346,  0.02 , -0.019,  0.008,  0.174,  0.   ],\n",
       "       [ 0.478,  0.   ,  0.557, -0.006,  0.21 , -0.012, -0.   ],\n",
       "       [ 0.   , -0.478,  0.006,  0.49 ,  0.008,  0.147, -0.   ],\n",
       "       [ 0.   , -0.   , -0.286, -0.044,  0.954, -0.037,  0.303],\n",
       "       [ 0.   ,  1.   , -0.   , -0.999, -0.046, -0.999,  0.023],\n",
       "       [ 1.   ,  0.   ,  0.958, -0.013,  0.297, -0.036, -0.953]])"
      ]
     },
     "execution_count": 82,
     "metadata": {},
     "output_type": "execute_result"
    }
   ],
   "source": [
    "j"
   ]
  },
  {
   "cell_type": "code",
   "execution_count": 85,
   "metadata": {},
   "outputs": [
    {
     "data": {
      "text/plain": [
       "array([ 0.005,  0.036,  0.007,  0.072,  0.003, -0.06 ,  0.009])"
      ]
     },
     "execution_count": 85,
     "metadata": {},
     "output_type": "execute_result"
    }
   ],
   "source": [
    "j_inv @ e"
   ]
  },
  {
   "cell_type": "markdown",
   "metadata": {},
   "source": [
    "---"
   ]
  },
  {
   "cell_type": "code",
   "execution_count": 13,
   "metadata": {},
   "outputs": [],
   "source": [
    "pos = robot.current_cartesian_state.pose.end_effector_pose\n",
    "q = np.array(robot.state.q)"
   ]
  },
  {
   "cell_type": "code",
   "execution_count": 14,
   "metadata": {},
   "outputs": [
    {
     "data": {
      "text/plain": [
       "Affine(t=[0.462171 0.00470396 0.689737], q=[0.989394 -0.00466179 0.145158 0.00244112])"
      ]
     },
     "execution_count": 14,
     "metadata": {},
     "output_type": "execute_result"
    }
   ],
   "source": [
    "pos"
   ]
  },
  {
   "cell_type": "code",
   "execution_count": 15,
   "metadata": {},
   "outputs": [
    {
     "data": {
      "text/plain": [
       "Affine(t=[0.462171 0.00470529 0.689736], q=[0.989395 -0.00466086 0.145156 0.00244099])"
      ]
     },
     "execution_count": 15,
     "metadata": {},
     "output_type": "execute_result"
    }
   ],
   "source": [
    "a = np.array(robot.state.O_T_EE)\n",
    "franky.Affine(a.reshape(4,4).T)"
   ]
  },
  {
   "cell_type": "code",
   "execution_count": 16,
   "metadata": {},
   "outputs": [
    {
     "data": {
      "text/plain": [
       "Affine(t=[0.462172 0.00470279 0.689735], q=[0.989395 -0.00466275 0.145156 0.00244152])"
      ]
     },
     "execution_count": 16,
     "metadata": {},
     "output_type": "execute_result"
    }
   ],
   "source": [
    "robot.forward_kinematics(q)"
   ]
  },
  {
   "cell_type": "code",
   "execution_count": 17,
   "metadata": {},
   "outputs": [
    {
     "name": "stdout",
     "output_type": "stream",
     "text": [
      "0: Error: 0.287, Step size: 0.001, Q: [0.01, -0.31, 0.00, -1.53, -0.01, 1.52, 0.81]\n",
      "5: Error: 0.288, Step size: 0.001, Q: [0.01, -0.31, 0.00, -1.53, -0.01, 1.52, 0.81]\n",
      "10: Error: 0.289, Step size: 0.001, Q: [0.01, -0.31, 0.00, -1.53, -0.01, 1.52, 0.81]\n",
      "15: Error: 0.289, Step size: 0.001, Q: [0.01, -0.31, 0.00, -1.53, -0.01, 1.52, 0.81]\n",
      "20: Error: 0.290, Step size: 0.001, Q: [0.01, -0.31, 0.00, -1.53, -0.01, 1.52, 0.81]\n",
      "25: Error: 0.290, Step size: 0.001, Q: [0.01, -0.31, 0.00, -1.53, -0.01, 1.52, 0.81]\n",
      "30: Error: 0.291, Step size: 0.001, Q: [0.01, -0.31, 0.00, -1.53, -0.01, 1.52, 0.81]\n",
      "35: Error: 0.292, Step size: 0.001, Q: [0.01, -0.31, 0.00, -1.53, -0.01, 1.52, 0.81]\n",
      "40: Error: 0.292, Step size: 0.001, Q: [0.01, -0.31, 0.00, -1.53, -0.01, 1.52, 0.81]\n",
      "45: Error: 0.293, Step size: 0.001, Q: [0.01, -0.31, 0.00, -1.53, -0.01, 1.53, 0.81]\n",
      "50: Error: 0.293, Step size: 0.001, Q: [0.01, -0.31, 0.00, -1.53, -0.01, 1.53, 0.81]\n",
      "55: Error: 0.294, Step size: 0.001, Q: [0.01, -0.31, 0.00, -1.53, -0.01, 1.53, 0.81]\n",
      "60: Error: 0.294, Step size: 0.001, Q: [0.01, -0.31, 0.00, -1.53, -0.01, 1.53, 0.81]\n",
      "65: Error: 0.295, Step size: 0.001, Q: [0.01, -0.31, 0.00, -1.53, -0.01, 1.53, 0.81]\n",
      "70: Error: 0.296, Step size: 0.001, Q: [0.01, -0.31, 0.00, -1.53, -0.01, 1.53, 0.81]\n",
      "75: Error: 0.296, Step size: 0.001, Q: [0.01, -0.31, 0.00, -1.53, -0.01, 1.53, 0.81]\n",
      "80: Error: 0.297, Step size: 0.001, Q: [0.01, -0.31, 0.00, -1.53, -0.01, 1.53, 0.81]\n",
      "85: Error: 0.298, Step size: 0.001, Q: [0.01, -0.31, 0.00, -1.53, -0.01, 1.53, 0.81]\n",
      "90: Error: 0.298, Step size: 0.001, Q: [0.01, -0.31, 0.00, -1.53, -0.01, 1.53, 0.81]\n",
      "95: Error: 0.299, Step size: 0.001, Q: [0.01, -0.31, 0.00, -1.53, -0.01, 1.53, 0.81]\n"
     ]
    },
    {
     "data": {
      "text/plain": [
       "array([ 0.00932885, -0.30852162,  0.00335122, -1.52478114, -0.00997415,\n",
       "        1.53232885,  0.8051471 ])"
      ]
     },
     "execution_count": 17,
     "metadata": {},
     "output_type": "execute_result"
    }
   ],
   "source": [
    "inverse_kinematics(robot, pos, np.array(robot.state.q))"
   ]
  },
  {
   "cell_type": "code",
   "execution_count": 65,
   "metadata": {},
   "outputs": [
    {
     "data": {
      "text/plain": [
       "Affine(t=[0.432476 0.00534272 0.788774], q=[0.912297 -0.382936 0.135037 -0.0532912])"
      ]
     },
     "execution_count": 65,
     "metadata": {},
     "output_type": "execute_result"
    }
   ],
   "source": [
    "robot.forward_kinematics(robot.state.q)"
   ]
  },
  {
   "cell_type": "code",
   "execution_count": 16,
   "metadata": {},
   "outputs": [
    {
     "data": {
      "text/plain": [
       "[0.010480232632723234,\n",
       " -0.30647963334062095,\n",
       " 0.0033271352274554856,\n",
       " -1.535063607684307,\n",
       " -0.00915653893903261,\n",
       " 1.5197909502698166,\n",
       " 0.8068179199968182]"
      ]
     },
     "execution_count": 16,
     "metadata": {},
     "output_type": "execute_result"
    }
   ],
   "source": [
    "robot.state.q"
   ]
  },
  {
   "cell_type": "code",
   "execution_count": null,
   "metadata": {},
   "outputs": [],
   "source": []
  }
 ],
 "metadata": {
  "kernelspec": {
   "display_name": "franky",
   "language": "python",
   "name": "python3"
  },
  "language_info": {
   "codemirror_mode": {
    "name": "ipython",
    "version": 3
   },
   "file_extension": ".py",
   "mimetype": "text/x-python",
   "name": "python",
   "nbconvert_exporter": "python",
   "pygments_lexer": "ipython3",
   "version": "3.11.10"
  }
 },
 "nbformat": 4,
 "nbformat_minor": 2
}
