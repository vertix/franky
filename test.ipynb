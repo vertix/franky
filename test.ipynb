{
 "cells": [
  {
   "cell_type": "code",
   "execution_count": null,
   "metadata": {},
   "outputs": [],
   "source": [
    "# import importlib\n",
    "# importlib.reload(franky)"
   ]
  },
  {
   "cell_type": "code",
   "execution_count": 1,
   "metadata": {},
   "outputs": [],
   "source": [
    "import franky\n",
    "import numpy as np\n",
    "np.set_printoptions(precision=6, suppress=True, linewidth=200)\n",
    "\n",
    "from scipy.spatial.transform import Rotation"
   ]
  },
  {
   "cell_type": "code",
   "execution_count": 2,
   "metadata": {},
   "outputs": [],
   "source": [
    "robot = franky.Robot(\"172.168.0.2\", realtime_config=franky.RealtimeConfig.Ignore)"
   ]
  },
  {
   "cell_type": "code",
   "execution_count": null,
   "metadata": {},
   "outputs": [],
   "source": [
    "robot.forward_kinematics(np.array([0, 0, 0, 0, 0, 0, 0]))"
   ]
  },
  {
   "cell_type": "code",
   "execution_count": 4,
   "metadata": {},
   "outputs": [],
   "source": [
    "pos = robot.forward_kinematics(np.array(robot.state.q))"
   ]
  },
  {
   "cell_type": "code",
   "execution_count": null,
   "metadata": {},
   "outputs": [],
   "source": [
    "%%timeit -r 10 -n 100  q0 = np.array(robot.state.q) + np.random.randn(7) * 0.1\n",
    "q_result = robot.inverse_kinematics(pos, q0)"
   ]
  },
  {
   "cell_type": "code",
   "execution_count": null,
   "metadata": {},
   "outputs": [],
   "source": [
    "%%time\n",
    "q0 = np.array(robot.state.q) + np.random.randn(7) * 0.1\n",
    "robot.inverse_kinematics(pos, q0)"
   ]
  },
  {
   "cell_type": "code",
   "execution_count": 5,
   "metadata": {},
   "outputs": [],
   "source": [
    "def quaternion_multiply(q1, q2):\n",
    "    w1, x1, y1, z1 = q1\n",
    "    w2, x2, y2, z2 = q2\n",
    "\n",
    "    w = w1 * w2 - x1 * x2 - y1 * y2 - z1 * z2\n",
    "    x = w1 * x2 + x1 * w2 + y1 * z2 - z1 * y2\n",
    "    y = w1 * y2 - x1 * z2 + y1 * w2 + z1 * x2\n",
    "    z = w1 * z2 + x1 * y2 - y1 * x2 + z1 * w2\n",
    "\n",
    "    return np.array([w, x, y, z])"
   ]
  },
  {
   "cell_type": "code",
   "execution_count": 6,
   "metadata": {},
   "outputs": [],
   "source": [
    "def q_inv(q):\n",
    "    q = q.copy()\n",
    "    q[1:] = -q[1:]\n",
    "    return q"
   ]
  },
  {
   "cell_type": "markdown",
   "metadata": {},
   "source": [
    "---"
   ]
  },
  {
   "cell_type": "code",
   "execution_count": 30,
   "metadata": {},
   "outputs": [],
   "source": [
    "def error(x_cur, target):\n",
    "    pos_error = x_cur.translation - target.translation\n",
    "    R_cur = x_cur.matrix[:3,:3]  # Current rotation matrix\n",
    "    R_target = target.matrix[:3,:3]  # Target rotation matrix\n",
    "    R_error = R_cur.T @ R_target\n",
    "    rot = Rotation.from_matrix(R_error)\n",
    "    rot_vec = rot.as_rotvec()\n",
    "    rot_vec = -R_cur @ rot_vec\n",
    "    return np.concatenate([pos_error, rot_vec])"
   ]
  },
  {
   "cell_type": "code",
   "execution_count": 9,
   "metadata": {},
   "outputs": [],
   "source": [
    "# _q = np.zeros(7)\n",
    "# _q = np.array([0, np.pi/2, 0, np.pi/2, 0, 0, 0])\n",
    "_q = np.array([0, 0, 0, 0, 0, 0, 0])"
   ]
  },
  {
   "cell_type": "code",
   "execution_count": 10,
   "metadata": {},
   "outputs": [],
   "source": [
    "eps = 1e-5\n",
    "J_num = np.zeros((6, 7))\n",
    "\n",
    "for i in range(7):\n",
    "    dq = np.zeros(7)\n",
    "    dq[i] = eps\n",
    "    x_plus = error(robot.forward_kinematics(_q + dq), robot.forward_kinematics(_q))\n",
    "    x_minus = error(robot.forward_kinematics(_q - dq), robot.forward_kinematics(_q))\n",
    "    J_num[:,i] = (x_plus - x_minus) / (2 * eps)"
   ]
  },
  {
   "cell_type": "code",
   "execution_count": null,
   "metadata": {},
   "outputs": [],
   "source": [
    "J_num"
   ]
  },
  {
   "cell_type": "code",
   "execution_count": null,
   "metadata": {},
   "outputs": [],
   "source": [
    "J = robot.jacobian(_q)\n",
    "J"
   ]
  },
  {
   "cell_type": "markdown",
   "metadata": {},
   "source": [
    "---"
   ]
  },
  {
   "cell_type": "code",
   "execution_count": 31,
   "metadata": {},
   "outputs": [],
   "source": [
    "def line_search(robot, q, dq, e_current, target, alpha=1.0, beta=0.5, max_steps=10):\n",
    "    current_error_norm = np.linalg.norm(e_current)\n",
    "    step_size = alpha\n",
    "\n",
    "    for _ in range(max_steps):\n",
    "        q_new = q + step_size * dq\n",
    "        x_new = robot.forward_kinematics(q_new)\n",
    "        e_new = error(x_new, target)\n",
    "\n",
    "        if np.linalg.norm(e_new) < current_error_norm:\n",
    "            return step_size\n",
    "\n",
    "        step_size *= beta\n",
    "\n",
    "    return step_size"
   ]
  },
  {
   "cell_type": "code",
   "execution_count": 86,
   "metadata": {},
   "outputs": [],
   "source": [
    "def inverse_kinematics(robot, target: franky.Affine, q0):\n",
    "    q = q0.copy()\n",
    "    I = np.eye(7)\n",
    "    k0 = 0.01\n",
    "    max_iterations = 50\n",
    "    tol = 1e-4; min_step = 1e-6\n",
    "    pinv_reg = 0.1\n",
    "\n",
    "    for i in range(max_iterations):\n",
    "        x = robot.forward_kinematics(q)\n",
    "        e = error(x, target)\n",
    "        error_norm = np.linalg.norm(e)\n",
    "\n",
    "        if error_norm < tol:\n",
    "            print(f\"Converged after {i} iterations\")\n",
    "            break\n",
    "\n",
    "        j = robot.jacobian(q)\n",
    "        j_inv = j.T @ np.linalg.inv(j @ j.T + pinv_reg * I[:6,:6])\n",
    "\n",
    "        N = I - j_inv @ j\n",
    "        dq_primary = -j_inv @ e\n",
    "\n",
    "        k_null = k0 * np.exp(error_norm)  # Reduce null space influence when error is high\n",
    "        dq_null = N @ (-k_null * q)\n",
    "\n",
    "        dq = dq_primary + dq_null\n",
    "\n",
    "        step_size = line_search(robot, q, dq, e, target, alpha=1.0, beta=0.8, max_steps=20)\n",
    "        if step_size < min_step:\n",
    "            print(f\"Step size too small after {i} iterations\")\n",
    "            break\n",
    "\n",
    "        q += step_size * dq\n",
    "\n",
    "        if i % 1 == 0:  # Print less frequently\n",
    "            print(f\"{i}: Err: {error_norm:.5f}, Step: {step_size:.3f}, dq_p: {np.linalg.norm(dq_primary)}, dq_n: {np.linalg.norm(dq_null)}\")\n",
    "\n",
    "    return q"
   ]
  },
  {
   "cell_type": "code",
   "execution_count": 87,
   "metadata": {},
   "outputs": [],
   "source": [
    "pos = robot.forward_kinematics(np.array(robot.state.q))"
   ]
  },
  {
   "cell_type": "code",
   "execution_count": null,
   "metadata": {},
   "outputs": [],
   "source": [
    "ik_q = inverse_kinematics(robot, pos, np.array(robot.state.q) + np.random.randn(7) * 0.06)\n",
    "robot.forward_kinematics(ik_q), robot.forward_kinematics(np.array(robot.state.q))"
   ]
  },
  {
   "cell_type": "code",
   "execution_count": null,
   "metadata": {},
   "outputs": [],
   "source": [
    "np.linalg.norm(ik_q), np.linalg.norm(np.array(robot.state.q))"
   ]
  },
  {
   "cell_type": "code",
   "execution_count": null,
   "metadata": {},
   "outputs": [],
   "source": [
    "np.linalg.norm(ik_q), np.linalg.norm(np.array(robot.state.q))"
   ]
  },
  {
   "cell_type": "code",
   "execution_count": 12,
   "metadata": {},
   "outputs": [],
   "source": [
    "target = pos\n",
    "q0 = np.array(robot.state.q) + np.random.randn(7) * 0.03\n",
    "q = q0.copy()\n",
    "pinv_reg, I = 0.01, np.eye(7)"
   ]
  },
  {
   "cell_type": "code",
   "execution_count": 13,
   "metadata": {},
   "outputs": [],
   "source": [
    "x = robot.forward_kinematics(q)\n",
    "e = error(x, target)\n",
    "error_norm = np.linalg.norm(e)"
   ]
  },
  {
   "cell_type": "code",
   "execution_count": 8,
   "metadata": {},
   "outputs": [],
   "source": [
    "def error(x_cur, target):\n",
    "    quat = np.array(x_cur.quaternion)\n",
    "    q_e = quaternion_multiply(quat, q_inv(target.quaternion))\n",
    "    q_e = Rotation.from_quat([q_e[1], q_e[2], q_e[3], q_e[0]]).as_euler('ZYX')\n",
    "    return np.concatenate([x_cur.translation - target.translation, q_e])"
   ]
  },
  {
   "cell_type": "code",
   "execution_count": 29,
   "metadata": {},
   "outputs": [],
   "source": [
    "# _q = np.zeros(7)\n",
    "_q = np.array([0, np.pi/2, 0, np.pi/2, 0, 0, 0])\n",
    "_q = robot.state.q"
   ]
  },
  {
   "cell_type": "code",
   "execution_count": 30,
   "metadata": {},
   "outputs": [],
   "source": [
    "eps = 1e-5\n",
    "J_num = np.zeros((6, 7))\n",
    "\n",
    "for i in range(7):\n",
    "    dq = np.zeros(7)\n",
    "    dq[i] = eps\n",
    "    x_plus = error(robot.forward_kinematics(_q + dq), robot.forward_kinematics(_q))\n",
    "    x_minus = error(robot.forward_kinematics(_q - dq), robot.forward_kinematics(_q))\n",
    "    J_num[:,i] = (x_plus - x_minus) / (2 * eps)"
   ]
  },
  {
   "cell_type": "code",
   "execution_count": null,
   "metadata": {},
   "outputs": [],
   "source": [
    "J_num"
   ]
  },
  {
   "cell_type": "code",
   "execution_count": null,
   "metadata": {},
   "outputs": [],
   "source": [
    "J = robot.jacobian(_q)\n",
    "J"
   ]
  },
  {
   "cell_type": "code",
   "execution_count": 36,
   "metadata": {},
   "outputs": [],
   "source": [
    "q1 = _q + 0.01 * np.array([0, 1, 0, 0, 0, 0, 0])"
   ]
  },
  {
   "cell_type": "code",
   "execution_count": 38,
   "metadata": {},
   "outputs": [],
   "source": [
    "p1, p = robot.forward_kinematics(q1), robot.forward_kinematics(_q)\n",
    "# np.array(p1.quaternion), np.array(p.quaternion)\n",
    "# np.array(p1.quaternion) - np.array(p.quaternion)"
   ]
  },
  {
   "cell_type": "code",
   "execution_count": null,
   "metadata": {},
   "outputs": [],
   "source": [
    "p1, p"
   ]
  },
  {
   "cell_type": "code",
   "execution_count": null,
   "metadata": {},
   "outputs": [],
   "source": [
    "p1.translation - p.translation"
   ]
  },
  {
   "cell_type": "code",
   "execution_count": null,
   "metadata": {},
   "outputs": [],
   "source": [
    "tr_diff = quaternion_multiply(np.array(p1.quaternion), q_inv(p.quaternion))\n",
    "tr_diff"
   ]
  },
  {
   "cell_type": "code",
   "execution_count": null,
   "metadata": {},
   "outputs": [],
   "source": [
    "Rotation.from_quat([tr_diff[1], tr_diff[2], tr_diff[3], tr_diff[0]]).as_euler(\"ZYX\")\n"
   ]
  },
  {
   "cell_type": "code",
   "execution_count": null,
   "metadata": {},
   "outputs": [],
   "source": [
    "error(p1, p)"
   ]
  },
  {
   "cell_type": "code",
   "execution_count": null,
   "metadata": {},
   "outputs": [],
   "source": [
    "np.array(J @ (q1 - _q))"
   ]
  },
  {
   "cell_type": "code",
   "execution_count": null,
   "metadata": {},
   "outputs": [],
   "source": [
    "Rotation.from_euler(\"ZYX\", np.array(J @ (q1 - _q))[3:]).as_quat()"
   ]
  },
  {
   "cell_type": "code",
   "execution_count": null,
   "metadata": {},
   "outputs": [],
   "source": [
    "p.translation + np.array(J @ (q1 - _q))[:3], p1.translation"
   ]
  },
  {
   "cell_type": "code",
   "execution_count": null,
   "metadata": {},
   "outputs": [],
   "source": []
  },
  {
   "cell_type": "code",
   "execution_count": null,
   "metadata": {},
   "outputs": [],
   "source": [
    "Rotation.from_quat(tr_diff).as_euler(\"ZYX\", degrees=True)\n"
   ]
  },
  {
   "cell_type": "code",
   "execution_count": null,
   "metadata": {},
   "outputs": [],
   "source": [
    "j"
   ]
  },
  {
   "cell_type": "code",
   "execution_count": null,
   "metadata": {},
   "outputs": [],
   "source": [
    "j_inv @ e"
   ]
  },
  {
   "cell_type": "markdown",
   "metadata": {},
   "source": [
    "---"
   ]
  },
  {
   "cell_type": "code",
   "execution_count": 13,
   "metadata": {},
   "outputs": [],
   "source": [
    "pos = robot.current_cartesian_state.pose.end_effector_pose\n",
    "q = np.array(robot.state.q)"
   ]
  },
  {
   "cell_type": "code",
   "execution_count": null,
   "metadata": {},
   "outputs": [],
   "source": [
    "pos"
   ]
  },
  {
   "cell_type": "code",
   "execution_count": null,
   "metadata": {},
   "outputs": [],
   "source": [
    "a = np.array(robot.state.O_T_EE)\n",
    "franky.Affine(a.reshape(4,4).T)"
   ]
  },
  {
   "cell_type": "code",
   "execution_count": null,
   "metadata": {},
   "outputs": [],
   "source": [
    "robot.forward_kinematics(q)"
   ]
  },
  {
   "cell_type": "code",
   "execution_count": null,
   "metadata": {},
   "outputs": [],
   "source": [
    "inverse_kinematics(robot, pos, np.array(robot.state.q))"
   ]
  },
  {
   "cell_type": "code",
   "execution_count": null,
   "metadata": {},
   "outputs": [],
   "source": [
    "robot.forward_kinematics(robot.state.q)"
   ]
  },
  {
   "cell_type": "code",
   "execution_count": null,
   "metadata": {},
   "outputs": [],
   "source": [
    "robot.state.q"
   ]
  },
  {
   "cell_type": "code",
   "execution_count": null,
   "metadata": {},
   "outputs": [],
   "source": []
  }
 ],
 "metadata": {
  "kernelspec": {
   "display_name": "franky",
   "language": "python",
   "name": "python3"
  },
  "language_info": {
   "codemirror_mode": {
    "name": "ipython",
    "version": 3
   },
   "file_extension": ".py",
   "mimetype": "text/x-python",
   "name": "python",
   "nbconvert_exporter": "python",
   "pygments_lexer": "ipython3",
   "version": "3.11.10"
  }
 },
 "nbformat": 4,
 "nbformat_minor": 2
}
